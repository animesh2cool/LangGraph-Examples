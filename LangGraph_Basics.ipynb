{
 "cells": [
  {
   "cell_type": "code",
   "execution_count": 1,
   "id": "e6ba9a8a-1a17-44b9-a574-7010ac0a66f9",
   "metadata": {},
   "outputs": [],
   "source": [
    "# import libraries\n",
    "\n",
    "from typing import List, Dict\n",
    "from langgraph.graph import StateGraph, START, END\n",
    "from langchain_ollama.llms import OllamaLLM"
   ]
  },
  {
   "cell_type": "code",
   "execution_count": 2,
   "id": "99a5a1a2-62c9-4ca2-aa99-9e87c4854c80",
   "metadata": {},
   "outputs": [],
   "source": [
    "#step 1: define State\n",
    "\n",
    "class State(Dict):\n",
    "    messages: List[Dict[str, str]]"
   ]
  },
  {
   "cell_type": "code",
   "execution_count": 3,
   "id": "cffff5ce-741a-459d-91bf-0f57f0307297",
   "metadata": {},
   "outputs": [],
   "source": [
    "# Step 2: Initialize StateGraph\n",
    "\n",
    "graph_builder = StateGraph(State)"
   ]
  },
  {
   "cell_type": "code",
   "execution_count": 4,
   "id": "c7eba11e-a7b3-49bf-91b9-700b0beab282",
   "metadata": {},
   "outputs": [
    {
     "name": "stderr",
     "output_type": "stream",
     "text": [
      "C:\\Users\\Debasmita\\AppData\\Local\\Temp\\ipykernel_3132\\251065416.py:5: LangChainDeprecationWarning: The class `ChatOllama` was deprecated in LangChain 0.3.1 and will be removed in 1.0.0. An updated version of the class exists in the :class:`~langchain-ollama package and should be used instead. To use it run `pip install -U :class:`~langchain-ollama` and import as `from :class:`~langchain_ollama import ChatOllama``.\n",
      "  llm = ChatOllama(\n"
     ]
    }
   ],
   "source": [
    "# initialize LLM\n",
    "\n",
    "from langchain_community.chat_models import ChatOllama\n",
    "\n",
    "llm = ChatOllama(\n",
    "    model=\"llama3.2\",\n",
    "    base_url=\"http://localhost:11434\"\n",
    ")"
   ]
  },
  {
   "cell_type": "code",
   "execution_count": 5,
   "id": "e89a3fbb-1d3d-48b6-88d8-0e79cfca3d57",
   "metadata": {},
   "outputs": [],
   "source": [
    "# Step 3: Define ChatBot function\n",
    "\n",
    "def chatBot(state: State):\n",
    "    response = llm.invoke(state[\"messages\"])\n",
    "    state[\"messages\"].append({\"role\" : \"assistant\", \"content\" : response})\n",
    "    return {\"messages\" : state[\"messages\"]}"
   ]
  },
  {
   "cell_type": "code",
   "execution_count": 6,
   "id": "dd73d67d-4585-4797-8d38-35029ab734e1",
   "metadata": {},
   "outputs": [
    {
     "data": {
      "text/plain": [
       "<langgraph.graph.state.StateGraph at 0x211455b2600>"
      ]
     },
     "execution_count": 6,
     "metadata": {},
     "output_type": "execute_result"
    }
   ],
   "source": [
    "# Step 4: add nodes and edges\n",
    "\n",
    "graph_builder.add_node(\"chatbot\", chatBot)\n",
    "graph_builder.add_edge(START, \"chatbot\")\n",
    "graph_builder.add_edge(\"chatbot\", END)"
   ]
  },
  {
   "cell_type": "code",
   "execution_count": 7,
   "id": "05b5aa3b-82e6-4c96-ab16-62ded90a3f77",
   "metadata": {},
   "outputs": [],
   "source": [
    "#compile graph\n",
    "\n",
    "graph = graph_builder.compile()"
   ]
  },
  {
   "cell_type": "code",
   "execution_count": 8,
   "id": "7e1c036f-5f4a-49ae-82a1-1ffd155d6a04",
   "metadata": {},
   "outputs": [],
   "source": [
    "# Step 5: Stream Update\n",
    "\n",
    "def stream_graph_updates(user_input: str):    \n",
    "    state = {\"messages\": [{\"role\": \"user\", \"content\": user_input}]}\n",
    "    for event in graph.stream(state):\n",
    "        for value in event.values():\n",
    "            print(\"Assistant:\", value[\"messages\"][-1][\"content\"])\n"
   ]
  },
  {
   "cell_type": "code",
   "execution_count": null,
   "id": "d846385f-d511-470d-8028-99a070a41286",
   "metadata": {},
   "outputs": [
    {
     "name": "stdin",
     "output_type": "stream",
     "text": [
      "User:  what is agentic AI\n"
     ]
    }
   ],
   "source": [
    "# Run this cell to send a message to the chatbot\n",
    "\n",
    "user_input = input(\"User: \")\n",
    "\n",
    "stream_graph_updates(user_input)\n"
   ]
  },
  {
   "cell_type": "code",
   "execution_count": null,
   "id": "88f3b1be-d53f-4728-bfa9-75fb9e566e5e",
   "metadata": {},
   "outputs": [],
   "source": []
  }
 ],
 "metadata": {
  "kernelspec": {
   "display_name": "Python [conda env:base] *",
   "language": "python",
   "name": "conda-base-py"
  },
  "language_info": {
   "codemirror_mode": {
    "name": "ipython",
    "version": 3
   },
   "file_extension": ".py",
   "mimetype": "text/x-python",
   "name": "python",
   "nbconvert_exporter": "python",
   "pygments_lexer": "ipython3",
   "version": "3.12.7"
  }
 },
 "nbformat": 4,
 "nbformat_minor": 5
}
