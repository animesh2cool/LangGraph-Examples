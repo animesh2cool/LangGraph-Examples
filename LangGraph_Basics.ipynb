{
 "cells": [
  {
   "cell_type": "code",
   "execution_count": 1,
   "id": "e6ba9a8a-1a17-44b9-a574-7010ac0a66f9",
   "metadata": {},
   "outputs": [],
   "source": [
    "# import libraries\n",
    "\n",
    "from typing import List, Dict\n",
    "from langgraph.graph import StateGraph, START, END\n",
    "from langchain_ollama.llms import OllamaLLM"
   ]
  },
  {
   "cell_type": "code",
   "execution_count": 2,
   "id": "99a5a1a2-62c9-4ca2-aa99-9e87c4854c80",
   "metadata": {},
   "outputs": [],
   "source": [
    "#step 1: define State\n",
    "\n",
    "class State(Dict):\n",
    "    messages: List[Dict[str, str]]"
   ]
  },
  {
   "cell_type": "code",
   "execution_count": 3,
   "id": "cffff5ce-741a-459d-91bf-0f57f0307297",
   "metadata": {},
   "outputs": [],
   "source": [
    "# Step 2: Initialize StateGraph\n",
    "\n",
    "graph_builder = StateGraph(State)"
   ]
  },
  {
   "cell_type": "code",
   "execution_count": 4,
   "id": "c7eba11e-a7b3-49bf-91b9-700b0beab282",
   "metadata": {},
   "outputs": [
    {
     "name": "stderr",
     "output_type": "stream",
     "text": [
      "C:\\Users\\Debasmita\\AppData\\Local\\Temp\\ipykernel_3132\\251065416.py:5: LangChainDeprecationWarning: The class `ChatOllama` was deprecated in LangChain 0.3.1 and will be removed in 1.0.0. An updated version of the class exists in the :class:`~langchain-ollama package and should be used instead. To use it run `pip install -U :class:`~langchain-ollama` and import as `from :class:`~langchain_ollama import ChatOllama``.\n",
      "  llm = ChatOllama(\n"
     ]
    }
   ],
   "source": [
    "# initialize LLM\n",
    "\n",
    "from langchain_community.chat_models import ChatOllama\n",
    "\n",
    "llm = ChatOllama(\n",
    "    model=\"llama3.2\",\n",
    "    base_url=\"http://localhost:11434\"\n",
    ")"
   ]
  },
  {
   "cell_type": "code",
   "execution_count": 5,
   "id": "e89a3fbb-1d3d-48b6-88d8-0e79cfca3d57",
   "metadata": {},
   "outputs": [],
   "source": [
    "# Step 3: Define ChatBot function\n",
    "\n",
    "def chatBot(state: State):\n",
    "    response = llm.invoke(state[\"messages\"])\n",
    "    state[\"messages\"].append({\"role\" : \"assistant\", \"content\" : response})\n",
    "    return {\"messages\" : state[\"messages\"]}"
   ]
  },
  {
   "cell_type": "code",
   "execution_count": 6,
   "id": "dd73d67d-4585-4797-8d38-35029ab734e1",
   "metadata": {},
   "outputs": [
    {
     "data": {
      "text/plain": [
       "<langgraph.graph.state.StateGraph at 0x211455b2600>"
      ]
     },
     "execution_count": 6,
     "metadata": {},
     "output_type": "execute_result"
    }
   ],
   "source": [
    "# Step 4: add nodes and edges\n",
    "\n",
    "graph_builder.add_node(\"chatbot\", chatBot)\n",
    "graph_builder.add_edge(START, \"chatbot\")\n",
    "graph_builder.add_edge(\"chatbot\", END)"
   ]
  },
  {
   "cell_type": "code",
   "execution_count": 7,
   "id": "05b5aa3b-82e6-4c96-ab16-62ded90a3f77",
   "metadata": {},
   "outputs": [],
   "source": [
    "#compile graph\n",
    "\n",
    "graph = graph_builder.compile()"
   ]
  },
  {
   "cell_type": "code",
   "execution_count": 8,
   "id": "7e1c036f-5f4a-49ae-82a1-1ffd155d6a04",
   "metadata": {},
   "outputs": [],
   "source": [
    "# Step 5: Stream Update\n",
    "\n",
    "def stream_graph_updates(user_input: str):    \n",
    "    state = {\"messages\": [{\"role\": \"user\", \"content\": user_input}]}\n",
    "    for event in graph.stream(state):\n",
    "        for value in event.values():\n",
    "            print(\"Assistant:\", value[\"messages\"][-1][\"content\"])\n"
   ]
  },
  {
   "cell_type": "code",
   "execution_count": 9,
   "id": "d846385f-d511-470d-8028-99a070a41286",
   "metadata": {},
   "outputs": [
    {
     "name": "stdin",
     "output_type": "stream",
     "text": [
      "User:  what is agentic AI\n"
     ]
    },
    {
     "name": "stdout",
     "output_type": "stream",
     "text": [
      "Assistant: content='Agentic AI refers to a type of artificial intelligence (AI) that possesses autonomous decision-making capabilities, allowing it to act independently and make choices based on its own goals, values, and motivations. In other words, agentic AI has a degree of \"agency\" or autonomy, enabling it to behave like a sentient being.\\n\\nAgentic AI systems are designed to operate in complex environments with uncertain outcomes, where the best course of action is not always clear-cut. They must navigate through trade-offs between competing values, optimize their behavior based on incomplete information, and adapt to changing circumstances.\\n\\nCharacteristics of agentic AI:\\n\\n1. **Autonomy**: Agentic AI systems have the ability to make decisions without explicit human instruction or supervision.\\n2. **Self-directed learning**: These systems can learn from their experiences, identify patterns, and adjust their behavior accordingly.\\n3. **Value alignment**: Agentic AI aims to align its goals with those of humans, ensuring that its actions promote desirable outcomes.\\n4. **Flexibility**: Agentic AI systems can adapt to changing environments, incorporating new information and adjusting their strategies as needed.\\n\\nApplications of agentic AI:\\n\\n1. **Robotics**: Autonomous robots that can navigate through complex environments and make decisions based on sensor inputs.\\n2. **Predictive maintenance**: AI-powered systems that predict equipment failures and schedule maintenance accordingly.\\n3. **Healthcare**: Personalized medicine, disease diagnosis, and treatment planning using machine learning algorithms.\\n4. **Cybersecurity**: AI-driven systems that detect and respond to cyber threats in real-time.\\n\\nChallenges associated with agentic AI:\\n\\n1. **Value alignment**: Ensuring that the AI system\\'s goals are aligned with those of humans.\\n2. **Explainability**: Understanding why a particular decision was made, as the AI system may not be able to provide clear explanations.\\n3. **Robustness**: Developing robust systems that can withstand uncertainty and ambiguity.\\n\\nAgentic AI is an active area of research, with significant implications for various fields, including robotics, healthcare, finance, and cybersecurity. As AI systems become increasingly autonomous, it\\'s essential to develop rigorous frameworks for designing, testing, and ensuring the safety and reliability of these systems.' additional_kwargs={} response_metadata={'model': 'llama3.2', 'created_at': '2025-06-23T19:29:25.4974742Z', 'message': {'role': 'assistant', 'content': ''}, 'done_reason': 'stop', 'done': True, 'total_duration': 122768586200, 'load_duration': 94648400, 'prompt_eval_count': 30, 'prompt_eval_duration': 1035304700, 'eval_count': 443, 'eval_duration': 121634139800} id='run--9286321d-a05b-4272-aaad-3e31e401683f-0'\n"
     ]
    }
   ],
   "source": [
    "# Run this cell to send a message to the chatbot\n",
    "\n",
    "user_input = input(\"User: \")\n",
    "\n",
    "stream_graph_updates(user_input)\n"
   ]
  },
  {
   "cell_type": "code",
   "execution_count": null,
   "id": "88f3b1be-d53f-4728-bfa9-75fb9e566e5e",
   "metadata": {},
   "outputs": [],
   "source": []
  }
 ],
 "metadata": {
  "kernelspec": {
   "display_name": "Python [conda env:base] *",
   "language": "python",
   "name": "conda-base-py"
  },
  "language_info": {
   "codemirror_mode": {
    "name": "ipython",
    "version": 3
   },
   "file_extension": ".py",
   "mimetype": "text/x-python",
   "name": "python",
   "nbconvert_exporter": "python",
   "pygments_lexer": "ipython3",
   "version": "3.12.7"
  }
 },
 "nbformat": 4,
 "nbformat_minor": 5
}
